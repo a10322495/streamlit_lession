{
 "cells": [
  {
   "cell_type": "markdown",
   "id": "aa337bdf",
   "metadata": {},
   "source": [
    "# 1day"
   ]
  },
  {
   "cell_type": "raw",
   "id": "3e2915c5",
   "metadata": {},
   "source": [
    "天 1\n",
    "设置本地开发环境\n",
    "在我们正式开始构建 Streamlit 应用之前，我们需要首先设置一个开发环境。\n",
    "\n",
    "让我们从安装和配置 conda 环境开始。\n",
    "\n",
    "安装 conda\n",
    "前往 https：//docs.conda.io/en/latest/miniconda.html ，选择与你操作系统（Windows, Mac 或 Linux）对应的 conda 版本\n",
    "下载安装器并运行，完成 conda 的安装\n",
    "新建一个 conda 环境\n",
    "现在你已经装好了 conda ，让我们来创建一个 conda 环境来管理所有 Python 库依赖。\n",
    "\n",
    "比如按照如下指令，使用 Python 3.9 版本创建一个新的环境：\n",
    "\n",
    "\n",
    "conda create -n stenv python=3.9\n",
    "其中 create -n stenv 表示创建一个名为 stenv 的 conda 环境，而 python=3.9 会指定 conda 环境使用 3.9 版本的 Python。\n",
    "\n",
    "激活 conda 环境\n",
    "要使用上一步刚创建好的名为 stenv 的 conda 环境，则需要使用如下的命令：\n",
    "\n",
    "\n",
    "conda activate stenv\n",
    "安装 Streamlit 库\n",
    "激活环境之后就是时候安装 streamlit 库了：\n",
    "\n",
    "\n",
    "pip install streamlit\n",
    "启动示例 Streamlit 应用\n",
    "用如下指令来启动示例 Streamlit 应用（图 1）：\n",
    "\n",
    "\n",
    "streamlit hello"
   ]
  },
  {
   "cell_type": "markdown",
   "id": "27f9b9a0",
   "metadata": {
    "heading_collapsed": true
   },
   "source": [
    "# 2day\n"
   ]
  },
  {
   "cell_type": "code",
   "execution_count": null,
   "id": "c4ff1cd2",
   "metadata": {
    "hidden": true
   },
   "outputs": [],
   "source": []
  },
  {
   "cell_type": "raw",
   "id": "cdee3d18",
   "metadata": {
    "hidden": true
   },
   "source": [
    "import streamlit as st\n",
    "\n",
    "st.write('Hello world!')\n",
    "streamlit run streamlit_app.py"
   ]
  },
  {
   "cell_type": "markdown",
   "id": "d9609209",
   "metadata": {
    "heading_collapsed": true
   },
   "source": [
    "# 3 day "
   ]
  },
  {
   "cell_type": "raw",
   "id": "27a427c0",
   "metadata": {
    "hidden": true
   },
   "source": [
    "import streamlit as st\n",
    "\n",
    "st.header('st.button')\n",
    "\n",
    "if st.button('Say hello'):\n",
    "     st.write('Why hello there')\n",
    "else:\n",
    "     st.write('Goodbye')"
   ]
  },
  {
   "cell_type": "markdown",
   "id": "e23104ea",
   "metadata": {
    "heading_collapsed": true
   },
   "source": [
    "# 4 day\n",
    "- 油管的频道  \n",
    "    - 和 Ken Jee 一起搭建 Streamlit 应用\n"
   ]
  },
  {
   "cell_type": "markdown",
   "id": "a90fbe52",
   "metadata": {},
   "source": [
    "# 5 day\n",
    "- 这里面介绍了绘图的模块：altair   【文档可以从pypi.org进入找到】\n",
    "- 画板地址：https://altair-viz.github.io/gallery/index.html#example-gallery\n",
    "    - 特点：简单，能用的图形都有，轻组件"
   ]
  },
  {
   "cell_type": "raw",
   "id": "25642f2c",
   "metadata": {},
   "source": [
    "import numpy as np\n",
    "import altair as alt\n",
    "import pandas as pd\n",
    "import streamlit as st\n",
    "\n",
    "st.header('st.write')\n",
    "\n",
    "# 样例 1\n",
    "\n",
    "st.write('Hello, *World!* :sunglasses:')\n",
    "\n",
    "# 样例 2\n",
    "\n",
    "st.write(1234)\n",
    "\n",
    "# 样例 3\n",
    "\n",
    "df = pd.DataFrame({\n",
    "     'first column': [1, 2, 3, 4],\n",
    "     'second column': [10, 20, 30, 40]\n",
    "     })\n",
    "st.write(df)\n",
    "\n",
    "# 样例 4\n",
    "\n",
    "st.write('Below is a DataFrame:', df, 'Above is a dataframe.')\n",
    "\n",
    "# 样例 5\n",
    "\n",
    "df2 = pd.DataFrame(\n",
    "     np.random.randn(200, 3),\n",
    "     columns=['a', 'b', 'c'])\n",
    "c = alt.Chart(df2).mark_circle().encode(\n",
    "     x='a', y='b', size='c', color='c', tooltip=['a', 'b', 'c'])\n",
    "st.write(c)\n",
    "\n",
    "st.write(df2)"
   ]
  },
  {
   "cell_type": "code",
   "execution_count": null,
   "id": "fa37720d",
   "metadata": {},
   "outputs": [],
   "source": []
  },
  {
   "cell_type": "code",
   "execution_count": null,
   "id": "336695ab",
   "metadata": {},
   "outputs": [],
   "source": []
  },
  {
   "cell_type": "markdown",
   "id": "b696afdc",
   "metadata": {},
   "source": [
    " "
   ]
  },
  {
   "cell_type": "code",
   "execution_count": null,
   "id": "3727fde3",
   "metadata": {},
   "outputs": [],
   "source": []
  }
 ],
 "metadata": {
  "hide_input": false,
  "kernelspec": {
   "display_name": "Python 3",
   "language": "python",
   "name": "python3"
  },
  "language_info": {
   "codemirror_mode": {
    "name": "ipython",
    "version": 3
   },
   "file_extension": ".py",
   "mimetype": "text/x-python",
   "name": "python",
   "nbconvert_exporter": "python",
   "pygments_lexer": "ipython3",
   "version": "3.8.5"
  },
  "toc": {
   "base_numbering": 1,
   "nav_menu": {},
   "number_sections": true,
   "sideBar": true,
   "skip_h1_title": false,
   "title_cell": "Table of Contents",
   "title_sidebar": "Contents",
   "toc_cell": false,
   "toc_position": {},
   "toc_section_display": true,
   "toc_window_display": true
  }
 },
 "nbformat": 4,
 "nbformat_minor": 5
}
